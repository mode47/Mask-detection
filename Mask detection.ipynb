{
 "cells": [
  {
   "cell_type": "markdown",
   "id": "1af34f4e",
   "metadata": {},
   "source": [
    "## 1.1 Install Dependencies\n",
    "\n"
   ]
  },
  {
   "cell_type": "code",
   "execution_count": 1,
   "id": "22d6520a",
   "metadata": {},
   "outputs": [],
   "source": [
    "import numpy as np\n",
    "import pandas as pd\n",
    "import matplotlib.pyplot as plt\n",
    "from sklearn.metrics import classification_report\n",
    "from keras.layers import Flatten, Dense\n",
    "from keras.models import Model \n",
    "from keras.preprocessing.image import ImageDataGenerator\n",
    "from tensorflow.keras.utils import load_img,img_to_array\n",
    "from keras.applications.mobilenet_v2 import preprocess_input\n",
    "from tensorflow.keras.utils import to_categorical\n",
    "from sklearn.preprocessing import LabelBinarizer\n",
    "import pandas as pd\n",
    "from sklearn.model_selection import train_test_split"
   ]
  },
  {
   "cell_type": "markdown",
   "id": "17ff0b13",
   "metadata": {},
   "source": [
    "## 1.2 read data\n"
   ]
  },
  {
   "cell_type": "code",
   "execution_count": 2,
   "id": "ca0d7b5c",
   "metadata": {},
   "outputs": [
    {
     "name": "stderr",
     "output_type": "stream",
     "text": [
      "C:\\Users\\hp\\anaconda3\\lib\\site-packages\\PIL\\Image.py:975: UserWarning: Palette images with Transparency expressed in bytes should be converted to RGBA images\n",
      "  warnings.warn(\n"
     ]
    }
   ],
   "source": [
    "import os\n",
    "path='mask'\n",
    "img_list=os.listdir(path)\n",
    "len(img_list)\n",
    "dic=['without_mask', 'with_mask']\n",
    "data=[]\n",
    "label=[]\n",
    "for cat in dic:\n",
    "    pic_list=os.path.join(path,cat)\n",
    "    for img in  os.listdir(pic_list):\n",
    "        image=os.path.join(pic_list,img)\n",
    "     #   print(image)\n",
    "        image=load_img(image, target_size=(224, 224))\n",
    "        image=img_to_array(image)\n",
    "        #print(image)\n",
    "        image=preprocess_input(image)\n",
    "        data.append(image)\n",
    "        label.append(cat)       \n",
    "    #print(pic_list)"
   ]
  },
  {
   "cell_type": "code",
   "execution_count": 3,
   "id": "9d8e011b",
   "metadata": {},
   "outputs": [],
   "source": [
    "lb = LabelBinarizer()\n",
    "label = lb.fit_transform(label)\n",
    "label = to_categorical(label)\n",
    "\n",
    "\n"
   ]
  },
  {
   "cell_type": "code",
   "execution_count": 4,
   "id": "7d5ee25d",
   "metadata": {},
   "outputs": [
    {
     "data": {
      "text/plain": [
       "(3833, 224, 224, 3)"
      ]
     },
     "execution_count": 4,
     "metadata": {},
     "output_type": "execute_result"
    }
   ],
   "source": [
    "data = np.array(data, dtype='float32')\n",
    "label = np.array(label)\n",
    "data.shape\n",
    "\n"
   ]
  },
  {
   "cell_type": "code",
   "execution_count": 5,
   "id": "74a25b61",
   "metadata": {},
   "outputs": [
    {
     "data": {
      "text/plain": [
       "(3833, 2)"
      ]
     },
     "execution_count": 5,
     "metadata": {},
     "output_type": "execute_result"
    }
   ],
   "source": [
    "label.shape"
   ]
  },
  {
   "cell_type": "markdown",
   "id": "f64605c8",
   "metadata": {},
   "source": [
    "## 1.3 read data\n"
   ]
  },
  {
   "cell_type": "code",
   "execution_count": null,
   "id": "52cb2c48",
   "metadata": {},
   "outputs": [],
   "source": [
    "\n",
    "X_train, X_test, y_train,  y_test= train_test_split(data, label, test_size=0.2, shuffle=True ,random_state=1)\n",
    "\n"
   ]
  },
  {
   "cell_type": "markdown",
   "id": "4e4a690f",
   "metadata": {},
   "source": [
    "## 1.3 DataGenerator \n"
   ]
  },
  {
   "cell_type": "code",
   "execution_count": null,
   "id": "3ca546eb",
   "metadata": {},
   "outputs": [],
   "source": [
    "augment = ImageDataGenerator(\n",
    "    rotation_range=20,\n",
    "    zoom_range=0.15,\n",
    "    width_shift_range=0.2,\n",
    "    height_shift_range=0.2,\n",
    "    shear_range=0.15,\n",
    "    horizontal_flip=True,\n",
    "    fill_mode='nearest'\n",
    ")\n"
   ]
  },
  {
   "cell_type": "markdown",
   "id": "93b5246a",
   "metadata": {},
   "source": [
    "\n",
    "# 1.4 Mask and Social distancing Detection using MobileNetV2\n",
    "\n",
    "\n",
    "\n",
    "\n",
    "\n",
    "\n",
    "\n",
    "\n",
    "\n",
    "\n",
    "\n",
    "\n"
   ]
  },
  {
   "cell_type": "code",
   "execution_count": null,
   "id": "01848c63",
   "metadata": {},
   "outputs": [],
   "source": [
    "from tensorflow.keras.applications import MobileNetV2\n",
    "from keras.layers import Input,Dropout ,AveragePooling2D\n",
    "mobileNet = MobileNetV2(weights='imagenet', include_top=False, input_tensor=Input(shape=(224, 224, 3)))\n",
    "headModel = mobileNet.output\n",
    "headModel = AveragePooling2D(pool_size=(7, 7))(headModel)\n",
    "headModel = Flatten(name='flatten')(headModel)\n",
    "headModel = Dense(128, activation='relu')(headModel)\n",
    "headModel = Dropout(0.5)(headModel)\n",
    "headModel = Dense(2, activation='softmax')(headModel)\n",
    "model = Model(inputs=mobileNet.input, outputs=headModel)"
   ]
  },
  {
   "cell_type": "code",
   "execution_count": null,
   "id": "6a7ee33a",
   "metadata": {},
   "outputs": [],
   "source": [
    "model.summary()"
   ]
  },
  {
   "cell_type": "code",
   "execution_count": null,
   "id": "211f35b1",
   "metadata": {},
   "outputs": [],
   "source": [
    "lr = 1e-4\n",
    "epochs = 20\n",
    "bs = 32\n",
    "from keras.optimizers import Adam\n",
    "#freeze some layers\n",
    "for layer in mobileNet.layers:\n",
    "  layer.trainable = False\n",
    "\n",
    "#optmizer = Adam(learning_rate=lr, decay=lr/epochs)\n",
    "model.compile(Adam(lr=0.001), loss='categorical_crossentropy', metrics=['accuracy'])"
   ]
  },
  {
   "cell_type": "code",
   "execution_count": null,
   "id": "2f38e0a0",
   "metadata": {},
   "outputs": [],
   "source": [
    "history = model.fit_generator(augment.flow(X_train, y_train, batch_size=bs),\n",
    "                              steps_per_epoch=len(X_train)//bs, epochs=epochs,\n",
    "                              validation_data=(X_test, y_test), shuffle=1)"
   ]
  },
  {
   "cell_type": "code",
   "execution_count": null,
   "id": "669c4ff2",
   "metadata": {},
   "outputs": [],
   "source": [
    "h=history.history"
   ]
  },
  {
   "cell_type": "code",
   "execution_count": null,
   "id": "4289f766",
   "metadata": {},
   "outputs": [],
   "source": [
    "h.keys()"
   ]
  },
  {
   "cell_type": "code",
   "execution_count": null,
   "id": "f68d4434",
   "metadata": {},
   "outputs": [],
   "source": [
    "plt.plot(h['accuracy'])\n",
    "plt.plot(h['val_accuracy'] , c = \"red\")\n",
    "plt.title(\"acc vs v-acc\")\n",
    "plt.plot(h['loss'])\n",
    "plt.plot(h['val_loss'])\n",
    "plt.legend(['loss','val_loss'])\n",
    "plt.xlabel('num-of iter')\n",
    "plt.title('loss vs loss-val')\n",
    "\n",
    "plt.legend(['accuracy', 'val_accuracy','loss','val_loss'])\n",
    "plt.show()"
   ]
  },
  {
   "cell_type": "code",
   "execution_count": null,
   "id": "24322e8e",
   "metadata": {},
   "outputs": [],
   "source": [
    "plt??"
   ]
  },
  {
   "cell_type": "code",
   "execution_count": null,
   "id": "e2f24d3c",
   "metadata": {},
   "outputs": [],
   "source": [
    "\n",
    "plt.show()"
   ]
  },
  {
   "cell_type": "markdown",
   "id": "4b7df1df",
   "metadata": {},
   "source": [
    "# save model "
   ]
  },
  {
   "cell_type": "code",
   "execution_count": null,
   "id": "3f39a222",
   "metadata": {},
   "outputs": [],
   "source": [
    "model.save('face_detection.h5')"
   ]
  },
  {
   "cell_type": "code",
   "execution_count": null,
   "id": "6b93f6ee",
   "metadata": {},
   "outputs": [],
   "source": [
    "from keras.models import load_model"
   ]
  },
  {
   "cell_type": "code",
   "execution_count": null,
   "id": "001d34f9",
   "metadata": {},
   "outputs": [],
   "source": [
    "new_model=load_model('face_detection.h5')"
   ]
  },
  {
   "cell_type": "code",
   "execution_count": null,
   "id": "817b3d6b",
   "metadata": {},
   "outputs": [],
   "source": [
    "\n",
    "predections =new_model.predict(X_test)\n",
    "predections = np.argmax(predections, axis = 1)"
   ]
  },
  {
   "cell_type": "code",
   "execution_count": null,
   "id": "7fa863f8",
   "metadata": {},
   "outputs": [],
   "source": [
    "\n",
    "print(classification_report(y_test.argmax(axis=1), predections, target_names=lb.classes_))"
   ]
  },
  {
   "cell_type": "code",
   "execution_count": null,
   "id": "ee0ed270",
   "metadata": {},
   "outputs": [],
   "source": [
    " mask_result = new_model.predict(X_test)"
   ]
  }
 ],
 "metadata": {
  "kernelspec": {
   "display_name": "Python 3 (ipykernel)",
   "language": "python",
   "name": "python3"
  },
  "language_info": {
   "codemirror_mode": {
    "name": "ipython",
    "version": 3
   },
   "file_extension": ".py",
   "mimetype": "text/x-python",
   "name": "python",
   "nbconvert_exporter": "python",
   "pygments_lexer": "ipython3",
   "version": "3.9.7"
  }
 },
 "nbformat": 4,
 "nbformat_minor": 5
}
